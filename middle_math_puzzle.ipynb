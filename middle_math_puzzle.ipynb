{
 "cells": [
  {
   "cell_type": "code",
   "execution_count": 11,
   "metadata": {},
   "outputs": [],
   "source": [
    "def display_grid():\n",
    "    print(\"---------d---------\")\n",
    "    print(\"----a----b----c----\")\n",
    "    print(\"---------e---------\")"
   ]
  },
  {
   "cell_type": "code",
   "execution_count": 12,
   "metadata": {},
   "outputs": [],
   "source": [
    "def validate_number(xyz):\n",
    "    if xyz.isdigit():\n",
    "        return int(xyz)\n",
    "    else:\n",
    "        return 0\n",
    "    "
   ]
  },
  {
   "cell_type": "code",
   "execution_count": 13,
   "metadata": {},
   "outputs": [],
   "source": [
    "def middle_puzzle():\n",
    "    print(\"Welcome to middle number puzzle\")\n",
    "    print(\"arrange your four numbers by following grid \")\n",
    "    display_grid()\n",
    "    abc = 0\n",
    "    dbe = 0\n",
    "    acde = 0\n",
    "    while abc==0:\n",
    "        abc = input(\"Enter the sum of horizontal three numbers(abc) : \")\n",
    "        abc = validate_number(abc)\n",
    "    \n",
    "    while dbe==0:\n",
    "        dbe = input(\"Enter the sum of vertical three numbers(dbe) : \")\n",
    "        dbe = validate_number(dbe)\n",
    "    \n",
    "    while acde==0:\n",
    "        acde = input(\"Enter the sum of all numbers except middle number(acde) : \")\n",
    "        acde = validate_number(acde)\n",
    "        \n",
    "    b = int(((abc + dbe) - acde) / 2)\n",
    "    \n",
    "    print(f'The middle number is {b}')\n",
    "    \n",
    "    "
   ]
  },
  {
   "cell_type": "code",
   "execution_count": null,
   "metadata": {},
   "outputs": [
    {
     "name": "stdout",
     "output_type": "stream",
     "text": [
      "Welcome to middle number puzzle\n",
      "arrange your four numbers by following grid \n",
      "---------d---------\n",
      "----a----b----c----\n",
      "---------e---------\n"
     ]
    }
   ],
   "source": [
    "middle_puzzle()"
   ]
  },
  {
   "cell_type": "code",
   "execution_count": null,
   "metadata": {},
   "outputs": [],
   "source": []
  }
 ],
 "metadata": {
  "kernelspec": {
   "display_name": "Python 3",
   "language": "python",
   "name": "python3"
  },
  "language_info": {
   "codemirror_mode": {
    "name": "ipython",
    "version": 3
   },
   "file_extension": ".py",
   "mimetype": "text/x-python",
   "name": "python",
   "nbconvert_exporter": "python",
   "pygments_lexer": "ipython3",
   "version": "3.7.3"
  }
 },
 "nbformat": 4,
 "nbformat_minor": 2
}
